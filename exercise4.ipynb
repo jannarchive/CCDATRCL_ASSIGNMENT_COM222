{
  "cells": [
    {
      "cell_type": "markdown",
      "metadata": {
        "id": "view-in-github",
        "colab_type": "text"
      },
      "source": [
        "<a href=\"https://colab.research.google.com/github/jannarchive/CCDATRCL_ASSIGNMENT_COM222/blob/main/exercise4.ipynb\" target=\"_parent\"><img src=\"https://colab.research.google.com/assets/colab-badge.svg\" alt=\"Open In Colab\"/></a>"
      ]
    },
    {
      "cell_type": "markdown",
      "metadata": {
        "id": "fCO3VeNzvGDc"
      },
      "source": [
        "# Exercise 4"
      ]
    },
    {
      "cell_type": "markdown",
      "metadata": {
        "id": "UCFGr2qPKONg"
      },
      "source": [
        "#### Pre-defined sorting algorithms"
      ]
    },
    {
      "cell_type": "code",
      "execution_count": 965,
      "metadata": {
        "id": "dXWXOLWtKONg"
      },
      "outputs": [],
      "source": [
        "def mergeSort(array):\n",
        "    if len(array) > 1:\n",
        "\n",
        "        #  r is the point where the array is divided into two subarrays\n",
        "        r = len(array)//2\n",
        "        L = array[:r]\n",
        "        M = array[r:]\n",
        "\n",
        "        # Sort the two halves\n",
        "        mergeSort(L)\n",
        "        mergeSort(M)\n",
        "\n",
        "        i = j = k = 0\n",
        "\n",
        "        # Until we reach either end of either L or M, pick larger among\n",
        "        # elements L and M and place them in the correct position at A[p..r]\n",
        "        while i < len(L) and j < len(M):\n",
        "            if L[i] < M[j]:\n",
        "                array[k] = L[i]\n",
        "                i += 1\n",
        "            else:\n",
        "                array[k] = M[j]\n",
        "                j += 1\n",
        "            k += 1\n",
        "\n",
        "        # When we run out of elements in either L or M,\n",
        "        # pick up the remaining elements and put in A[p..r]\n",
        "        while i < len(L):\n",
        "            array[k] = L[i]\n",
        "            i += 1\n",
        "            k += 1\n",
        "\n",
        "        while j < len(M):\n",
        "            array[k] = M[j]\n",
        "            j += 1\n",
        "            k += 1\n",
        "\n",
        "# Print the array\n",
        "def printList(array):\n",
        "    for i in range(len(array)):\n",
        "        print(array[i], end=\" \")\n",
        "    print()"
      ]
    },
    {
      "cell_type": "code",
      "execution_count": 966,
      "metadata": {
        "id": "OB-JMVxvKONi"
      },
      "outputs": [],
      "source": [
        "def countingSort(array):\n",
        "    size = len(array)\n",
        "    output = [0] * size\n",
        "\n",
        "    # Initialize count array\n",
        "    count = [0] * 10\n",
        "\n",
        "    # Store the count of each elements in count array\n",
        "    for i in range(0, size):\n",
        "        count[array[i]] += 1\n",
        "\n",
        "    # Store the cummulative count\n",
        "    for i in range(1, 10):\n",
        "        count[i] += count[i - 1]\n",
        "\n",
        "    # Find the index of each element of the original array in count array\n",
        "    # place the elements in output array\n",
        "    i = size - 1\n",
        "    while i >= 0:\n",
        "        output[count[array[i]] - 1] = array[i]\n",
        "        count[array[i]] -= 1\n",
        "        i -= 1\n",
        "\n",
        "    # Copy the sorted elements into original array\n",
        "    for i in range(0, size):\n",
        "        array[i] = output[i]"
      ]
    },
    {
      "cell_type": "code",
      "execution_count": 967,
      "metadata": {
        "id": "VXaukk4_KONj"
      },
      "outputs": [],
      "source": [
        "def insertionSort(array):\n",
        "\n",
        "    for step in range(1, len(array)):\n",
        "        key = array[step]\n",
        "        j = step - 1\n",
        "\n",
        "        # Compare key with each element on the left of it until an element smaller than it is found\n",
        "        # For descending order, change key<array[j] to key>array[j].\n",
        "        while j >= 0 and key < array[j]:\n",
        "            array[j + 1] = array[j]\n",
        "            j = j - 1\n",
        "\n",
        "        # Place key at after the element just smaller than it.\n",
        "        array[j + 1] = key"
      ]
    },
    {
      "cell_type": "code",
      "execution_count": 968,
      "metadata": {
        "id": "b4yWHH1nKONj"
      },
      "outputs": [],
      "source": [
        "# Bubble sort in Python\n",
        "def bubbleSort(array):\n",
        "\n",
        "  # loop to access each array element\n",
        "  for i in range(len(array)):\n",
        "\n",
        "    # loop to compare array elements\n",
        "    for j in range(0, len(array) - i - 1):\n",
        "\n",
        "      # compare two adjacent elements\n",
        "      # change > to < to sort in descending order\n",
        "      if array[j] > array[j + 1]:\n",
        "\n",
        "        # swapping elements if elements\n",
        "        # are not in the intended order\n",
        "        temp = array[j]\n",
        "        array[j] = array[j+1]\n",
        "        array[j+1] = temp"
      ]
    },
    {
      "cell_type": "markdown",
      "metadata": {
        "id": "6j9PZVsyvGDe"
      },
      "source": [
        "#### 1. Sort your **student number** in **ascending order**\n",
        "\n",
        "Example:\n",
        "\n",
        "**Input: 2022123456**\n",
        "\n",
        "**Output: 0122223456**"
      ]
    },
    {
      "cell_type": "code",
      "execution_count": 969,
      "metadata": {
        "colab": {
          "base_uri": "https://localhost:8080/"
        },
        "id": "UuNMRCm3vGDe",
        "outputId": "68142c8b-7923-4d9a-ebbd-19b9b05e0edb"
      },
      "outputs": [
        {
          "output_type": "stream",
          "name": "stdout",
          "text": [
            "Sorted list of student number in ascending order:  [0, 0, 0, 1, 1, 2, 2, 2, 5, 6]\n"
          ]
        }
      ],
      "source": [
        "student_number = [2, 0, 2, 2, 1, 0, 1, 5, 0, 6]\n",
        "\n",
        "bubbleSort(student_number)\n",
        "\n",
        "print(\"Sorted list of student number in ascending order: \", student_number)"
      ]
    },
    {
      "cell_type": "markdown",
      "metadata": {
        "id": "felukBjnvGDf"
      },
      "source": [
        "#### 2. Sort the **dates** in **ascending order**.\n",
        "\n",
        "dates = [\"12-25-2023\", birthday, \"01-01-2023\"]\n",
        "\n",
        "Enter your birthday in the birthday variable."
      ]
    },
    {
      "cell_type": "code",
      "execution_count": 970,
      "metadata": {
        "colab": {
          "base_uri": "https://localhost:8080/"
        },
        "id": "f8xQ3N0jvGDg",
        "outputId": "8483e93f-ce17-4918-9dfe-b4d4c6dee151"
      },
      "outputs": [
        {
          "output_type": "stream",
          "name": "stdout",
          "text": [
            "Sorted dates in ascending order:  ['04-09-2004', '01-01-2023', '12-25-2023']\n"
          ]
        }
      ],
      "source": [
        "from datetime import datetime\n",
        "format_dates = \"%m-%d-%Y\"\n",
        "\n",
        "def format_date(date_string):\n",
        "  return datetime.strptime(date_string, format_dates)\n",
        "\n",
        "dt = [format_date(date) for date in dates]\n",
        "insertionSort(dt)\n",
        "sorted_dates = [date.strftime(format_dates) for date in dt]\n",
        "\n",
        "birthday = \"04-09-2004\"\n",
        "dates = [\"12-25-2023\", birthday, \"01-01-2023\"]\n",
        "\n",
        "print(\"Sorted dates in ascending order: \", sorted_dates)"
      ]
    },
    {
      "cell_type": "markdown",
      "metadata": {
        "id": "IFDPeGZxvGDg"
      },
      "source": [
        "#### 3. Count the **total number of swaps** to sort the list below using **Bubble Sort**\n",
        "\n",
        "|3|2|5|1|4|\n",
        "|---|----|---|---|---|"
      ]
    },
    {
      "cell_type": "code",
      "execution_count": 971,
      "metadata": {
        "colab": {
          "base_uri": "https://localhost:8080/"
        },
        "id": "b1ppwLcevGDg",
        "outputId": "612f823b-1acf-411a-e2d3-0cccfdedba67"
      },
      "outputs": [
        {
          "output_type": "stream",
          "name": "stdout",
          "text": [
            "Sorted numbers:  [1, 2, 3, 4, 5]\n",
            "Total number of swaps:  5\n"
          ]
        }
      ],
      "source": [
        "def bubbleSort(array):\n",
        "  bubbleSort_swaps = 0\n",
        "\n",
        "  # loop to access each array element\n",
        "  for i in range(len(array)):\n",
        "\n",
        "    # loop to compare array elements\n",
        "    for j in range(0, len(array) - i - 1):\n",
        "\n",
        "      # compare two adjacent elements\n",
        "      # change > to < to sort in descending order\n",
        "      if array[j] > array[j + 1]:\n",
        "\n",
        "        # swapping elements if elements\n",
        "        # are not in the intended order\n",
        "        temp = array[j]\n",
        "        array[j] = array[j+1]\n",
        "        array[j+1] = temp\n",
        "        bubbleSort_swaps += 1\n",
        "\n",
        "  return bubbleSort_swaps\n",
        "\n",
        "numbers = [3, 2, 5, 1, 4]\n",
        "\n",
        "totalswaps = bubbleSort(numbers)\n",
        "print(\"Sorted numbers: \", numbers)\n",
        "print(\"Total number of swaps: \", totalswaps)"
      ]
    },
    {
      "cell_type": "markdown",
      "metadata": {
        "id": "iO2UusQWvGDi"
      },
      "source": [
        "#### 4. Count the **total number of steps** to sort the list below using **Insertion Sort**\n",
        "\n",
        "\n",
        "|6|2|5|7|4|1|8|9|3|\n",
        "|---|---|---|---|---|---|---|---|---|"
      ]
    },
    {
      "cell_type": "code",
      "execution_count": 972,
      "metadata": {
        "colab": {
          "base_uri": "https://localhost:8080/"
        },
        "id": "vq1PYEjmvGDi",
        "outputId": "bae50a2e-2425-410d-90eb-3d91bebc06bc"
      },
      "outputs": [
        {
          "output_type": "stream",
          "name": "stdout",
          "text": [
            "Sorted numbers:  [1, 2, 3, 4, 5, 6, 7, 8, 9]\n",
            "Total number of steps:  24\n"
          ]
        }
      ],
      "source": [
        "def insertionSort(array):\n",
        "  steps= 0\n",
        "\n",
        "  for step in range(1, len(array)):\n",
        "      key = array[step]\n",
        "      j = step - 1\n",
        "\n",
        "      # Compare key with each element on the left of it until an element smaller than it is found\n",
        "      # For descending order, change key<array[j] to key>array[j].\n",
        "      while j >= 0 and key < array[j]:\n",
        "          array[j + 1] = array[j]\n",
        "          j = j - 1\n",
        "          steps += 1\n",
        "\n",
        "      # Place key at after the element just smaller than it.\n",
        "      array[j + 1] = key\n",
        "      steps += 1\n",
        "\n",
        "  return steps\n",
        "\n",
        "numbers = [6, 2, 5, 7, 4, 1, 8, 9, 3]\n",
        "\n",
        "numberofsteps = insertionSort(numbers)\n",
        "print(\"Sorted numbers: \", numbers)\n",
        "print(\"Total number of steps: \", numberofsteps)"
      ]
    },
    {
      "cell_type": "markdown",
      "metadata": {
        "id": "jpfNCCdbvGDj"
      },
      "source": [
        "#### 5. Given the list below:\n",
        "\n",
        "\n",
        "|7|5|4|3|2|5|1|8|\n",
        "|---|---|---|---|---|---|---|---|\n",
        "\n",
        "Using **merge sort** and **counting sort**\n",
        "\n",
        "Determine which sorting algorithm is faster by counting the total number of steps for each algorithm\n"
      ]
    },
    {
      "cell_type": "code",
      "execution_count": 973,
      "metadata": {
        "colab": {
          "base_uri": "https://localhost:8080/"
        },
        "id": "2YVK17cSvGDj",
        "outputId": "81a012a7-89f6-4d7f-caa8-44e64ce1435a"
      },
      "outputs": [
        {
          "output_type": "stream",
          "name": "stdout",
          "text": [
            "Merge sort:  [1, 2, 3, 4, 5, 5, 7, 8]\n",
            "Number of steps:  47\n",
            "\n",
            "Counting sort:  [1, 2, 3, 4, 5, 5, 7, 8]\n",
            "Number of steps:  25\n",
            "\n",
            "Counting sort is faster\n"
          ]
        }
      ],
      "source": [
        "# Merge Sort\n",
        "def mergeSort(array):\n",
        "    mergeSort_steps = 0\n",
        "\n",
        "    if len(array) > 1:\n",
        "\n",
        "        #  r is the point where the array is divided into two subarrays\n",
        "        r = len(array)//2\n",
        "        L = array[:r]\n",
        "        M = array[r:]\n",
        "        mergeSort_steps += 1\n",
        "\n",
        "        # Sort the two halves\n",
        "        mergeSort_steps += mergeSort(L)\n",
        "        mergeSort_steps += mergeSort(M)\n",
        "\n",
        "        i = j = k = 0\n",
        "\n",
        "        # Until we reach either end of either L or M, pick larger among\n",
        "        # elements L and M and place them in the correct position at A[p..r]\n",
        "        while i < len(L) and j < len(M):\n",
        "            mergeSort_steps += 1\n",
        "            if L[i] < M[j]:\n",
        "                array[k] = L[i]\n",
        "                i += 1\n",
        "                mergeSort_steps += 1\n",
        "\n",
        "            else:\n",
        "                array[k] = M[j]\n",
        "                j += 1\n",
        "                mergeSort_steps += 1\n",
        "            k += 1\n",
        "\n",
        "        # When we run out of elements in either L or M,\n",
        "        # pick up the remaining elements and put in A[p..r]\n",
        "        while i < len(L):\n",
        "            array[k] = L[i]\n",
        "            i += 1\n",
        "            k += 1\n",
        "            mergeSort_steps += 1\n",
        "        while j < len(M):\n",
        "            array[k] = M[j]\n",
        "            j += 1\n",
        "            k += 1\n",
        "            mergeSort_steps += 1\n",
        "\n",
        "    return mergeSort_steps\n",
        "\n",
        "# Print the array\n",
        "def printList(array):\n",
        "    for i in range(len(array)):\n",
        "        print(array[i], end=\" \")\n",
        "    print()\n",
        "\n",
        "\n",
        "# Counting Sort\n",
        "def countingSort(array):\n",
        "    countingSort_steps = 0\n",
        "    size = len(array)\n",
        "    output = [0] * size\n",
        "\n",
        "    # Initialize count array\n",
        "    count = [0] * 10\n",
        "\n",
        "    # Store the count of each elements in count array\n",
        "    for i in range(0, size):\n",
        "        count[array[i]] += 1\n",
        "        countingSort_steps += 1\n",
        "\n",
        "    # Store the cummulative count\n",
        "    for i in range(1, 10):\n",
        "        count[i] += count[i - 1]\n",
        "        countingSort_steps += 1\n",
        "\n",
        "    # Find the index of each element of the original array in count array\n",
        "    # place the elements in output array\n",
        "    i = size - 1\n",
        "    while i >= 0:\n",
        "        output[count[array[i]] - 1] = array[i]\n",
        "        count[array[i]] -= 1\n",
        "        i -= 1\n",
        "        countingSort_steps += 1\n",
        "\n",
        "    # Copy the sorted elements into original array\n",
        "    for i in range(0, size):\n",
        "        array[i] = output[i]\n",
        "\n",
        "    return countingSort_steps\n",
        "\n",
        "\n",
        "numbers = [7, 5, 4, 3, 2, 5, 1, 8]\n",
        "\n",
        "merge_sort_num_steps = mergeSort(numbers)\n",
        "print(\"Merge sort: \", numbers)\n",
        "print(\"Number of steps: \", merge_sort_num_steps)\n",
        "\n",
        "counting_sort_num_steps = countingSort(numbers)\n",
        "print(\"\\nCounting sort: \", numbers)\n",
        "print(\"Number of steps: \", counting_sort_num_steps)\n",
        "\n",
        "if merge_sort_num_steps < counting_sort_num_steps:\n",
        "    print(\"\\nMerge sort is faster\")\n",
        "else:\n",
        "    print(\"\\nCounting sort is faster\")"
      ]
    }
  ],
  "metadata": {
    "colab": {
      "provenance": [],
      "include_colab_link": true
    },
    "kernelspec": {
      "display_name": "Python 3",
      "language": "python",
      "name": "python3"
    },
    "language_info": {
      "codemirror_mode": {
        "name": "ipython",
        "version": 3
      },
      "file_extension": ".py",
      "mimetype": "text/x-python",
      "name": "python",
      "nbconvert_exporter": "python",
      "pygments_lexer": "ipython3",
      "version": "3.11.4"
    }
  },
  "nbformat": 4,
  "nbformat_minor": 0
}