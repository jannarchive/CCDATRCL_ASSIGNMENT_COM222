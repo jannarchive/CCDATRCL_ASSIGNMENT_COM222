{
  "cells": [
    {
      "cell_type": "markdown",
      "metadata": {
        "id": "view-in-github",
        "colab_type": "text"
      },
      "source": [
        "<a href=\"https://colab.research.google.com/github/jannarchive/CCDATRCL_ASSIGNMENT_COM222/blob/main/exercise3.ipynb\" target=\"_parent\"><img src=\"https://colab.research.google.com/assets/colab-badge.svg\" alt=\"Open In Colab\"/></a>"
      ]
    },
    {
      "cell_type": "markdown",
      "metadata": {
        "id": "rbgKGv9JNFIL"
      },
      "source": [
        "# Exercise 3"
      ]
    },
    {
      "cell_type": "markdown",
      "metadata": {
        "id": "Zu96iSz7NFIQ"
      },
      "source": [
        "#### Pre-defined classes"
      ]
    },
    {
      "cell_type": "markdown",
      "metadata": {
        "id": "baLweUy2NFIR"
      },
      "source": [
        "Pre-defined Queue class"
      ]
    },
    {
      "cell_type": "code",
      "execution_count": 914,
      "metadata": {
        "id": "HmW2XPwXNFIR"
      },
      "outputs": [],
      "source": [
        "class Queue:\n",
        "    def __init__(self):\n",
        "        self.queue = []\n",
        "\n",
        "    # Add an element\n",
        "    def enqueue(self, item):\n",
        "        self.queue.append(item)\n",
        "\n",
        "    # Remove an element\n",
        "    def dequeue(self):\n",
        "        if len(self.queue) < 1:\n",
        "            return None\n",
        "        return self.queue.pop(0)\n",
        "\n",
        "    # Display  the queue\n",
        "    def display(self):\n",
        "        print(self.queue)\n",
        "\n",
        "    def size(self):\n",
        "        return len(self.queue)\n",
        "\n",
        "    def peek(self):\n",
        "        return self.queue[0]\n"
      ]
    },
    {
      "cell_type": "markdown",
      "metadata": {
        "id": "N9L5pBgXNFIS"
      },
      "source": [
        "Pre-defined Deque class"
      ]
    },
    {
      "cell_type": "code",
      "execution_count": 915,
      "metadata": {
        "id": "d2usXareNFIT"
      },
      "outputs": [],
      "source": [
        "class Deque:\n",
        "    def __init__(self):\n",
        "        self.items = []\n",
        "\n",
        "    def isEmpty(self):\n",
        "        return self.items == []\n",
        "\n",
        "    def addRear(self, item):\n",
        "        self.items.append(item)\n",
        "\n",
        "    def addFront(self, item):\n",
        "        self.items.insert(0, item)\n",
        "\n",
        "    def removeFront(self):\n",
        "        return self.items.pop(0)\n",
        "\n",
        "    def removeRear(self):\n",
        "        return self.items.pop()\n",
        "\n",
        "    def size(self):\n",
        "        return len(self.items)"
      ]
    },
    {
      "cell_type": "markdown",
      "metadata": {
        "id": "vLxJock2NFIT"
      },
      "source": [
        "Pre-defined Circular Queue class"
      ]
    },
    {
      "cell_type": "code",
      "execution_count": 916,
      "metadata": {
        "id": "W3ZrkGlSNFIT"
      },
      "outputs": [],
      "source": [
        "class CircularQueue():\n",
        "\n",
        "    def __init__(self, k):\n",
        "        self.k = k\n",
        "        self.queue = [None] * k\n",
        "        self.head = self.tail = -1\n",
        "\n",
        "    # Insert an element into the circular queue\n",
        "    def enqueue(self, data):\n",
        "\n",
        "        if ((self.tail + 1) % self.k == self.head):\n",
        "            print(\"The circular queue is full\\n\")\n",
        "\n",
        "        elif (self.head == -1):\n",
        "            self.head = 0\n",
        "            self.tail = 0\n",
        "            self.queue[self.tail] = data\n",
        "        else:\n",
        "            self.tail = (self.tail + 1) % self.k\n",
        "            self.queue[self.tail] = data\n",
        "\n",
        "    # Delete an element from the circular queue\n",
        "    def dequeue(self):\n",
        "        if (self.head == -1):\n",
        "            print(\"The circular queue is empty\\n\")\n",
        "\n",
        "        elif (self.head == self.tail):\n",
        "            temp = self.queue[self.head]\n",
        "            self.head = -1\n",
        "            self.tail = -1\n",
        "            return temp\n",
        "        else:\n",
        "            temp = self.queue[self.head]\n",
        "            self.head = (self.head + 1) % self.k\n",
        "            return temp\n",
        "\n",
        "    def printCQueue(self):\n",
        "        if(self.head == -1):\n",
        "            print(\"No element in the circular queue\")\n",
        "\n",
        "        elif (self.tail >= self.head):\n",
        "            for i in range(self.head, self.tail + 1):\n",
        "                print(self.queue[i], end=\" \")\n",
        "            print()\n",
        "        else:\n",
        "            for i in range(self.head, self.k):\n",
        "                print(self.queue[i], end=\" \")\n",
        "            for i in range(0, self.tail + 1):\n",
        "                print(self.queue[i], end=\" \")\n",
        "            print()\n"
      ]
    },
    {
      "cell_type": "markdown",
      "metadata": {
        "id": "obRfMvVONFIU"
      },
      "source": [
        "Pre-defined Priority Queue Class"
      ]
    },
    {
      "cell_type": "code",
      "execution_count": 917,
      "metadata": {
        "id": "rw1N-hx8NFIU"
      },
      "outputs": [],
      "source": [
        "class PriorityQueueNode:\n",
        "    def __init__(self, value, pr):\n",
        "\n",
        "        self.data = value\n",
        "        self.priority = pr\n",
        "        self.next = None"
      ]
    },
    {
      "cell_type": "code",
      "execution_count": 918,
      "metadata": {
        "id": "wcpsWFfZNFIU"
      },
      "outputs": [],
      "source": [
        "class PriorityQueue:\n",
        "\n",
        "\tdef __init__(self):\n",
        "\n",
        "\t\tself.front = None\n",
        "\n",
        "\t# Method to check Priority Queue is Empty\n",
        "\t# or not if Empty then it will return True\n",
        "\t# Otherwise False\n",
        "\tdef isEmpty(self):\n",
        "\n",
        "\t\treturn True if self.front == None else False\n",
        "\n",
        "\t# Method to add items in Priority Queue\n",
        "\t# According to their priority value\n",
        "\tdef push(self, value, priority):\n",
        "\n",
        "\t\t# Condition check for checking Priority\n",
        "\t\t# Queue is empty or not\n",
        "\t\tif self.isEmpty() == True:\n",
        "\n",
        "\t\t\t# Creating a new node and assigning\n",
        "\t\t\t# it to class variable\n",
        "\t\t\tself.front = PriorityQueueNode(value, priority)\n",
        "\n",
        "\t\t\t# Returning 1 for successful execution\n",
        "\t\t\treturn 1\n",
        "\n",
        "\t\telse:\n",
        "\n",
        "\t\t\t# Special condition check to see that\n",
        "\t\t\t# first node priority value\n",
        "\t\t\tif self.front.priority > priority:\n",
        "\t\t\t\t# Creating a new node\n",
        "\t\t\t\tnewNode = PriorityQueueNode(value, priority)\n",
        "\t\t\t\t# Updating the new node next value\n",
        "\t\t\t\tnewNode.next = self.front\n",
        "\n",
        "\t\t\t\t# Assigning it to self.front\n",
        "\t\t\t\tself.front = newNode\n",
        "\n",
        "\t\t\t\t# Returning 1 for successful execution\n",
        "\t\t\t\treturn 1\n",
        "\n",
        "\t\t\telse:\n",
        "\n",
        "\t\t\t\t# Traversing through Queue until it\n",
        "\t\t\t\t# finds the next smaller priority node\n",
        "\t\t\t\ttemp = self.front\n",
        "\n",
        "\t\t\t\twhile temp.next:\n",
        "\t\t\t\t\t# If same priority node found then current\n",
        "\t\t\t\t\t# node will come after previous node\n",
        "\t\t\t\t\tif priority <= temp.next.priority:\n",
        "\t\t\t\t\t\tbreak\n",
        "\n",
        "\t\t\t\t\ttemp = temp.next\n",
        "\n",
        "\t\t\t\tnewNode = PriorityQueueNode(value, priority)\n",
        "\t\t\t\tnewNode.next = temp.next\n",
        "\t\t\t\ttemp.next = newNode\n",
        "\n",
        "\t\t\t\t# Returning 1 for successful execution\n",
        "\t\t\t\treturn 1\n",
        "\n",
        "\t# Method to remove high priority item\n",
        "\t# from the Priority Queue\n",
        "\tdef pop(self):\n",
        "\n",
        "\t\t# Condition check for checking\n",
        "\t\t# Priority Queue is empty or not\n",
        "\t\tif self.isEmpty() == True:\n",
        "\t\t\treturn\n",
        "\t\telse:\n",
        "\t\t\t# Removing high priority node from\n",
        "\t\t\t# Priority Queue, and updating front\n",
        "\t\t\t# with next node\n",
        "\t\t\tself.front = self.front.next\n",
        "\t\t\treturn 1\n",
        "\n",
        "\t# Method to return high priority node\n",
        "\t# value Not removing it\n",
        "\tdef peek(self):\n",
        "\t\t# Condition check for checking Priority\n",
        "\t\t# Queue is empty or not\n",
        "\t\tif self.isEmpty() == True:\n",
        "\t\t\treturn\n",
        "\t\telse:\n",
        "\t\t\treturn self.front.data\n",
        "\n",
        "\t# Method to Traverse through Priority\n",
        "\t# Queue\n",
        "\tdef traverse(self):\n",
        "\t\t# Condition check for checking Priority\n",
        "\t\t# Queue is empty or not\n",
        "\t\tif self.isEmpty() == True:\n",
        "\t\t\treturn \"Queue is Empty!\"\n",
        "\t\telse:\n",
        "\t\t\ttemp = self.front\n",
        "\t\t\twhile temp:\n",
        "\t\t\t\tprint(temp.data, end=\" \")\n",
        "\t\t\t\ttemp = temp.next\n"
      ]
    },
    {
      "cell_type": "markdown",
      "metadata": {
        "id": "ppeFASWhNFIV"
      },
      "source": [
        "#### 1. Create a Queue\n",
        "\n",
        "- Each element should contain your name and your other classmates\n",
        "- There should be at least 5 elements in the queue\n",
        "- Put yourself at the end of the queue\n",
        "- Print all elements in the queue"
      ]
    },
    {
      "cell_type": "code",
      "execution_count": 919,
      "metadata": {
        "id": "-1PmvsfbNFIV"
      },
      "outputs": [],
      "source": [
        "names_queue = Queue()"
      ]
    },
    {
      "cell_type": "code",
      "source": [
        "names_queue.enqueue(\"Soni\")\n",
        "names_queue.enqueue(\"Red\")\n",
        "names_queue.enqueue(\"Rov\")\n",
        "names_queue.enqueue(\"Jannah\")\n",
        "names_queue.enqueue(\"Mykie\")\n",
        "names_queue.enqueue(\"Francis\")\n",
        "names_queue.enqueue(\"RB\")\n",
        "names_queue.enqueue(\"Christian\")\n",
        "names_queue.enqueue(\"Janna\")"
      ],
      "metadata": {
        "id": "sMxEliwbNxSV"
      },
      "execution_count": 920,
      "outputs": []
    },
    {
      "cell_type": "code",
      "source": [
        "print(\"Output:\")\n",
        "names_queue.display()"
      ],
      "metadata": {
        "colab": {
          "base_uri": "https://localhost:8080/"
        },
        "id": "UY5IOY0_OFE-",
        "outputId": "e890ddaf-e0b6-407a-80e2-1e092ee1f333"
      },
      "execution_count": 921,
      "outputs": [
        {
          "output_type": "stream",
          "name": "stdout",
          "text": [
            "Output:\n",
            "['Soni', 'Red', 'Rov', 'Jannah', 'Mykie', 'Francis', 'RB', 'Christian', 'Janna']\n"
          ]
        }
      ]
    },
    {
      "cell_type": "markdown",
      "metadata": {
        "id": "WxZ0ThSINFIV"
      },
      "source": [
        "#### 2. Create a Deque\n",
        "\n",
        "Given the queue below,\n",
        "\n",
        "**Queue:**\n",
        "\n",
        "| Cat | Dog | Rabbit | Bird | Hamster\n",
        "| --- | --- | --- | --- | --- |\n",
        "\n",
        "**dequeue** each element and insert them into a **Deque** in the following order below:\n",
        "\n",
        "**Deque:**\n",
        "\n",
        "| Hamster | Bird | Rabbit | Dog | Cat\n",
        "| --- | --- | --- | --- | --- |\n",
        "\n",
        "**Expected output:**\n",
        "\n",
        "['Hamster','Bird', 'Rabbit', 'Dog', 'Cat']"
      ]
    },
    {
      "cell_type": "code",
      "execution_count": 922,
      "metadata": {
        "id": "wqyGWHvpNFIV"
      },
      "outputs": [],
      "source": [
        "pets_queue = Queue()\n",
        "pets_deque = Deque()"
      ]
    },
    {
      "cell_type": "code",
      "source": [
        "pets_queue.enqueue(\"Cat\")\n",
        "pets_queue.enqueue(\"Dog\")\n",
        "pets_queue.enqueue(\"Rabbit\")\n",
        "pets_queue.enqueue(\"Bird\")\n",
        "pets_queue.enqueue(\"Hamster\")\n",
        "print(\"Elements in the queue:\")\n",
        "pets_queue.display()\n",
        "\n",
        "pets_deque.addFront(pets_queue.dequeue())\n",
        "pets_deque.addFront(pets_queue.dequeue())\n",
        "pets_deque.addFront(pets_queue.dequeue())\n",
        "pets_deque.addFront(pets_queue.dequeue())\n",
        "pets_deque.addFront(pets_queue.dequeue())"
      ],
      "metadata": {
        "id": "wr7PG1FhOqZk",
        "colab": {
          "base_uri": "https://localhost:8080/"
        },
        "outputId": "a601bf3d-600c-448b-ed5c-cf95cb117eda"
      },
      "execution_count": 923,
      "outputs": [
        {
          "output_type": "stream",
          "name": "stdout",
          "text": [
            "Elements in the queue:\n",
            "['Cat', 'Dog', 'Rabbit', 'Bird', 'Hamster']\n"
          ]
        }
      ]
    },
    {
      "cell_type": "code",
      "source": [
        "print(\"Output:\")\n",
        "print(pets_deque.items)"
      ],
      "metadata": {
        "id": "kguohYnqT_yq",
        "colab": {
          "base_uri": "https://localhost:8080/"
        },
        "outputId": "5ad43a9c-93f6-48f7-d992-5343f6544984"
      },
      "execution_count": 924,
      "outputs": [
        {
          "output_type": "stream",
          "name": "stdout",
          "text": [
            "Output:\n",
            "['Hamster', 'Bird', 'Rabbit', 'Dog', 'Cat']\n"
          ]
        }
      ]
    },
    {
      "cell_type": "markdown",
      "metadata": {
        "id": "pubBe_72NFIV"
      },
      "source": [
        "#### 3. Create a Circular Queue\n",
        "\n",
        "Given the queue below,\n",
        "\n",
        "**Queue:**\n",
        "\n",
        "| I | II | III | IV | V | VI | VII | VIII | IX | X | XI | XII\n",
        "| --- | --- | --- | --- | --- | --- | --- | --- | --- | --- | --- | --- |\n",
        "\n",
        "**dequeue** each element and insert them into a **Circular Deque** in the following order below:\n",
        "\n",
        "**Circular Queue:**\n",
        "\n",
        "<img src=\"clock.jpg\"/>\n",
        "\n",
        "**Expected output:**\n",
        "\n",
        "I II III IV V VI VII VIII IX X XI XII"
      ]
    },
    {
      "cell_type": "code",
      "execution_count": 925,
      "metadata": {
        "id": "OH3PY6ElNFIV"
      },
      "outputs": [],
      "source": [
        "clock_queue = Queue()\n",
        "clock_circularQueue = CircularQueue(12)"
      ]
    },
    {
      "cell_type": "code",
      "source": [
        "clock_queue.enqueue(\"I\")\n",
        "clock_queue.enqueue(\"II\")\n",
        "clock_queue.enqueue(\"III\")\n",
        "clock_queue.enqueue(\"IV\")\n",
        "clock_queue.enqueue(\"V\")\n",
        "clock_queue.enqueue(\"VI\")\n",
        "clock_queue.enqueue(\"VII\")\n",
        "clock_queue.enqueue(\"VIII\")\n",
        "clock_queue.enqueue(\"IX\")\n",
        "clock_queue.enqueue(\"X\")\n",
        "clock_queue.enqueue(\"XI\")\n",
        "clock_queue.enqueue(\"XII\")\n",
        "print(\"Elements in the queue:\")\n",
        "clock_queue.display()\n",
        "\n",
        "print(\"\\n\\nDequeued elements in the queue:\")\n",
        "for num in range(clock_queue.size()):\n",
        "  clock_circularQueue.enqueue(clock_queue.dequeue())\n",
        "  clock_queue.display()"
      ],
      "metadata": {
        "colab": {
          "base_uri": "https://localhost:8080/"
        },
        "id": "zMrNUtVFZVV0",
        "outputId": "670b4e99-67e3-4897-e30a-6efe02ef9fb0"
      },
      "execution_count": 926,
      "outputs": [
        {
          "output_type": "stream",
          "name": "stdout",
          "text": [
            "Elements in the queue:\n",
            "['I', 'II', 'III', 'IV', 'V', 'VI', 'VII', 'VIII', 'IX', 'X', 'XI', 'XII']\n",
            "\n",
            "\n",
            "Dequeued elements in the queue:\n",
            "['II', 'III', 'IV', 'V', 'VI', 'VII', 'VIII', 'IX', 'X', 'XI', 'XII']\n",
            "['III', 'IV', 'V', 'VI', 'VII', 'VIII', 'IX', 'X', 'XI', 'XII']\n",
            "['IV', 'V', 'VI', 'VII', 'VIII', 'IX', 'X', 'XI', 'XII']\n",
            "['V', 'VI', 'VII', 'VIII', 'IX', 'X', 'XI', 'XII']\n",
            "['VI', 'VII', 'VIII', 'IX', 'X', 'XI', 'XII']\n",
            "['VII', 'VIII', 'IX', 'X', 'XI', 'XII']\n",
            "['VIII', 'IX', 'X', 'XI', 'XII']\n",
            "['IX', 'X', 'XI', 'XII']\n",
            "['X', 'XI', 'XII']\n",
            "['XI', 'XII']\n",
            "['XII']\n",
            "[]\n"
          ]
        }
      ]
    },
    {
      "cell_type": "code",
      "source": [
        "print(\"Output:\")\n",
        "clock_circularQueue.printCQueue()"
      ],
      "metadata": {
        "colab": {
          "base_uri": "https://localhost:8080/"
        },
        "id": "YamkpzsOadJJ",
        "outputId": "51522d97-89f2-4f5c-b629-dd41608defaa"
      },
      "execution_count": 927,
      "outputs": [
        {
          "output_type": "stream",
          "name": "stdout",
          "text": [
            "Output:\n",
            "I II III IV V VI VII VIII IX X XI XII \n"
          ]
        }
      ]
    },
    {
      "cell_type": "markdown",
      "metadata": {
        "id": "TnnWd3uoNFIW"
      },
      "source": [
        "#### 4. Create a Priority Queue\n",
        "\n",
        "Given the queue below,\n",
        "\n",
        "**Queue:**\n",
        "\n",
        "| Cat | Dog | Rabbit | Bird | Hamster\n",
        "| --- | --- | --- | --- | --- |\n",
        "\n",
        "\n",
        "**dequeue** each element and insert them into a **Priority Queue** with the following priority values\n",
        "\n",
        "**Priority Queue:**\n",
        "\n",
        "| Element | Priority |\n",
        "| --- | --- |\n",
        "| Hamster |  0 |\n",
        "| Bird |  1 |\n",
        "| Rabbit |  2 |\n",
        "| Dog |  3 |\n",
        "| Cat |  4 |\n",
        "\n",
        "**Expected output:**\n",
        "\n",
        "Hamster Bird Rabbit Dog Cat"
      ]
    },
    {
      "cell_type": "code",
      "execution_count": 928,
      "metadata": {
        "id": "ofkwcS09NFIW"
      },
      "outputs": [],
      "source": [
        "pets_queue = Queue()\n",
        "pets_priorityQueue = PriorityQueue()"
      ]
    },
    {
      "cell_type": "code",
      "source": [
        "pets_queue.enqueue(\"Cat\")\n",
        "pets_queue.enqueue(\"Dog\")\n",
        "pets_queue.enqueue(\"Rabbit\")\n",
        "pets_queue.enqueue(\"Bird\")\n",
        "pets_queue.enqueue(\"Hamster\")\n",
        "print(\"Elements in the queue:\")\n",
        "pets_queue.display()\n",
        "\n",
        "print(\"\\n\\nDequeued elements in the queue:\")\n",
        "for pets in range(pets_queue.size()):\n",
        "  pets_queue.dequeue()\n",
        "  pets_queue.display()\n",
        "\n",
        "print(\"\\n\\nFinal priority queue:\")\n",
        "pets_priorityQueue.push(\"Hamster\", 0)\n",
        "pets_priorityQueue.push(\"Bird\", 1)\n",
        "pets_priorityQueue.push(\"Rabbit\", 2)\n",
        "pets_priorityQueue.push(\"Dog\", 3)\n",
        "pets_priorityQueue.push(\"Cat\", 4)\n",
        "pets_priorityQueue.traverse()"
      ],
      "metadata": {
        "colab": {
          "base_uri": "https://localhost:8080/"
        },
        "id": "vIddTSpkbXX_",
        "outputId": "a8dbc05b-3225-47b7-8500-bcf616249576"
      },
      "execution_count": 929,
      "outputs": [
        {
          "output_type": "stream",
          "name": "stdout",
          "text": [
            "Elements in the queue:\n",
            "['Cat', 'Dog', 'Rabbit', 'Bird', 'Hamster']\n",
            "\n",
            "\n",
            "Dequeued elements in the queue:\n",
            "['Dog', 'Rabbit', 'Bird', 'Hamster']\n",
            "['Rabbit', 'Bird', 'Hamster']\n",
            "['Bird', 'Hamster']\n",
            "['Hamster']\n",
            "[]\n",
            "\n",
            "\n",
            "Final priority queue:\n",
            "Hamster Bird Rabbit Dog Cat "
          ]
        }
      ]
    },
    {
      "cell_type": "markdown",
      "metadata": {
        "id": "Obj0Qn5oNFIW"
      },
      "source": [
        "#### 5. Create a Sorted Circular Queue\n",
        "\n",
        "Given the queue below,\n",
        "\n",
        "**Queue:**\n",
        "\n",
        "| 1 | 5 | 3 | 2 | 7 | 8 | 10 | 11 | 6 | 4 | 12 | 9\n",
        "| --- | --- | --- | --- | --- | --- | --- | --- | --- | --- | --- | --- |\n",
        "\n",
        "\n",
        "**dequeue** each element and insert them into a **Circular Queue** in the following order below:\n",
        "\n",
        "**Circular Queue:**\n",
        "\n",
        "<img src=\"clock1.png\"/>\n",
        "\n",
        "**Expected output:**\n",
        "\n",
        "1 2 3 4 5 6 7 8 9 10 11 12"
      ]
    },
    {
      "cell_type": "code",
      "execution_count": 930,
      "metadata": {
        "id": "pen0ifz5NFIW"
      },
      "outputs": [],
      "source": [
        "numbers_queue = Queue()\n",
        "sorted_circularQueue = CircularQueue(12)"
      ]
    },
    {
      "cell_type": "code",
      "source": [
        "numbers_queue.enqueue(1)\n",
        "numbers_queue.enqueue(5)\n",
        "numbers_queue.enqueue(3)\n",
        "numbers_queue.enqueue(2)\n",
        "numbers_queue.enqueue(7)\n",
        "numbers_queue.enqueue(8)\n",
        "numbers_queue.enqueue(10)\n",
        "numbers_queue.enqueue(11)\n",
        "numbers_queue.enqueue(6)\n",
        "numbers_queue.enqueue(4)\n",
        "numbers_queue.enqueue(12)\n",
        "numbers_queue.enqueue(9)\n",
        "print(\"Elements in the queue:\")\n",
        "numbers_queue.display()\n",
        "\n",
        "print(\"\\n\\nDequeued elements in the queue:\")\n",
        "for num in range(numbers_queue.size()):\n",
        "  numbers_queue.dequeue()\n",
        "  numbers_queue.display()\n",
        "\n",
        "for num in range(1, 13):\n",
        "  sorted_circularQueue.enqueue(num)"
      ],
      "metadata": {
        "colab": {
          "base_uri": "https://localhost:8080/"
        },
        "id": "PQ8fQMSAs6ox",
        "outputId": "eeef01f0-0841-436e-8ded-300780b6d727"
      },
      "execution_count": 931,
      "outputs": [
        {
          "output_type": "stream",
          "name": "stdout",
          "text": [
            "Elements in the queue:\n",
            "[1, 5, 3, 2, 7, 8, 10, 11, 6, 4, 12, 9]\n",
            "\n",
            "\n",
            "Dequeued elements in the queue:\n",
            "[5, 3, 2, 7, 8, 10, 11, 6, 4, 12, 9]\n",
            "[3, 2, 7, 8, 10, 11, 6, 4, 12, 9]\n",
            "[2, 7, 8, 10, 11, 6, 4, 12, 9]\n",
            "[7, 8, 10, 11, 6, 4, 12, 9]\n",
            "[8, 10, 11, 6, 4, 12, 9]\n",
            "[10, 11, 6, 4, 12, 9]\n",
            "[11, 6, 4, 12, 9]\n",
            "[6, 4, 12, 9]\n",
            "[4, 12, 9]\n",
            "[12, 9]\n",
            "[9]\n",
            "[]\n"
          ]
        }
      ]
    },
    {
      "cell_type": "code",
      "source": [
        "print(\"Output:\")\n",
        "sorted_circularQueue.printCQueue()"
      ],
      "metadata": {
        "colab": {
          "base_uri": "https://localhost:8080/"
        },
        "id": "cSX8baqGt_DS",
        "outputId": "17b89b8f-5c31-48a2-ef1d-7ba3272ebb37"
      },
      "execution_count": 932,
      "outputs": [
        {
          "output_type": "stream",
          "name": "stdout",
          "text": [
            "Output:\n",
            "1 2 3 4 5 6 7 8 9 10 11 12 \n"
          ]
        }
      ]
    }
  ],
  "metadata": {
    "kernelspec": {
      "display_name": "Python 3",
      "language": "python",
      "name": "python3"
    },
    "language_info": {
      "codemirror_mode": {
        "name": "ipython",
        "version": 3
      },
      "file_extension": ".py",
      "mimetype": "text/x-python",
      "name": "python",
      "nbconvert_exporter": "python",
      "pygments_lexer": "ipython3",
      "version": "3.9.13"
    },
    "orig_nbformat": 4,
    "colab": {
      "provenance": [],
      "include_colab_link": true
    }
  },
  "nbformat": 4,
  "nbformat_minor": 0
}