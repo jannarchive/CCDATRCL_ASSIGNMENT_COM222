{
  "cells": [
    {
      "cell_type": "markdown",
      "metadata": {
        "id": "view-in-github",
        "colab_type": "text"
      },
      "source": [
        "<a href=\"https://colab.research.google.com/github/jannarchive/CCDATRCL_ASSIGNMENT_COM222/blob/main/exercise5.ipynb\" target=\"_parent\"><img src=\"https://colab.research.google.com/assets/colab-badge.svg\" alt=\"Open In Colab\"/></a>"
      ]
    },
    {
      "cell_type": "markdown",
      "metadata": {
        "id": "LKW8ttnDXLLp"
      },
      "source": [
        "# Exercise 5"
      ]
    },
    {
      "cell_type": "markdown",
      "metadata": {
        "id": "PeWjuyG_XLLy"
      },
      "source": [
        "#### 1. Create a dictionary of your 10 favorite songs."
      ]
    },
    {
      "cell_type": "markdown",
      "metadata": {
        "id": "7MhRNwtIXLL0"
      },
      "source": [
        "Example:\n",
        "\n",
        "|KEY|VALUE|\n",
        "|---|---|\n",
        "|001|My Love|\n",
        "|002|Like a rose|"
      ]
    },
    {
      "cell_type": "code",
      "execution_count": 45,
      "metadata": {
        "id": "cjmRo_mOXLL0",
        "colab": {
          "base_uri": "https://localhost:8080/"
        },
        "outputId": "d9915fb3-833a-4d1b-b76a-8adb82d1145a"
      },
      "outputs": [
        {
          "output_type": "stream",
          "name": "stdout",
          "text": [
            "{'001': \"Daydreamin'\", '002': 'HOME', '003': 'Darl+ing', '004': \"I'll be your star\", '005': 'My Universe', '006': 'Honeymoon Avenue', '007': 'Cruel Summer', '008': 'Ako Na Lang', '009': 'Lemonade', '010': 'Come Inside Of My Heart'}\n"
          ]
        }
      ],
      "source": [
        "mydictionary = {\n",
        "    \"001\": \"Daydreamin'\",\n",
        "    \"002\": \"HOME\",\n",
        "    \"003\": \"Darl+ing\",\n",
        "    \"004\": \"I'll be your star\",\n",
        "    \"005\": \"My Universe\",\n",
        "    \"006\": \"Honeymoon Avenue\",\n",
        "    \"007\": \"Cruel Summer\",\n",
        "    \"008\": \"Ako Na Lang\",\n",
        "    \"009\": \"Lemonade\",\n",
        "    \"010\": \"Come Inside Of My Heart\"\n",
        "}\n",
        "print(mydictionary)"
      ]
    },
    {
      "cell_type": "markdown",
      "metadata": {
        "id": "_WBtvaPFXLL3"
      },
      "source": [
        "#### 2. Loop through the dictionary by its **key** and **value**"
      ]
    },
    {
      "cell_type": "code",
      "execution_count": 46,
      "metadata": {
        "id": "BMOoJyl7XLL4",
        "colab": {
          "base_uri": "https://localhost:8080/"
        },
        "outputId": "5e4a28c1-8a93-4c66-9f36-54b7d9ec0656"
      },
      "outputs": [
        {
          "output_type": "stream",
          "name": "stdout",
          "text": [
            "001 Daydreamin'\n",
            "002 HOME\n",
            "003 Darl+ing\n",
            "004 I'll be your star\n",
            "005 My Universe\n",
            "006 Honeymoon Avenue\n",
            "007 Cruel Summer\n",
            "008 Ako Na Lang\n",
            "009 Lemonade\n",
            "010 Come Inside Of My Heart\n"
          ]
        }
      ],
      "source": [
        "for a, b in mydictionary.items():\n",
        "  print(a, b)"
      ]
    },
    {
      "cell_type": "markdown",
      "metadata": {
        "id": "xrtgOn-4XLL5"
      },
      "source": [
        "#### 3. Add one additional song"
      ]
    },
    {
      "cell_type": "code",
      "execution_count": 47,
      "metadata": {
        "id": "nYITQJIIXLL5",
        "colab": {
          "base_uri": "https://localhost:8080/"
        },
        "outputId": "ef447f90-182a-48bb-874b-59d1fa0c74ee"
      },
      "outputs": [
        {
          "output_type": "execute_result",
          "data": {
            "text/plain": [
              "{'001': \"Daydreamin'\",\n",
              " '002': 'HOME',\n",
              " '003': 'Darl+ing',\n",
              " '004': \"I'll be your star\",\n",
              " '005': 'My Universe',\n",
              " '006': 'Honeymoon Avenue',\n",
              " '007': 'Cruel Summer',\n",
              " '008': 'Ako Na Lang',\n",
              " '009': 'Lemonade',\n",
              " '010': 'Come Inside Of My Heart',\n",
              " '011': 'Kidult'}"
            ]
          },
          "metadata": {},
          "execution_count": 47
        }
      ],
      "source": [
        "mydictionary[\"011\"] = \"Kidult\"\n",
        "mydictionary"
      ]
    },
    {
      "cell_type": "markdown",
      "metadata": {
        "id": "PI1ija7ZXLL6"
      },
      "source": [
        "#### 4. Remove one song"
      ]
    },
    {
      "cell_type": "code",
      "execution_count": 48,
      "metadata": {
        "id": "brY68_00XLL6",
        "colab": {
          "base_uri": "https://localhost:8080/"
        },
        "outputId": "8763d915-6f7f-4312-bfad-ea9a3fe242dc"
      },
      "outputs": [
        {
          "output_type": "execute_result",
          "data": {
            "text/plain": [
              "{'001': \"Daydreamin'\",\n",
              " '002': 'HOME',\n",
              " '003': 'Darl+ing',\n",
              " '004': \"I'll be your star\",\n",
              " '005': 'My Universe',\n",
              " '006': 'Honeymoon Avenue',\n",
              " '007': 'Cruel Summer',\n",
              " '008': 'Ako Na Lang',\n",
              " '009': 'Lemonade',\n",
              " '011': 'Kidult'}"
            ]
          },
          "metadata": {},
          "execution_count": 48
        }
      ],
      "source": [
        "mydictionary.pop(\"010\")\n",
        "mydictionary"
      ]
    },
    {
      "cell_type": "markdown",
      "metadata": {
        "id": "j1Qg_HFYXLL7"
      },
      "source": [
        "#### 5. Create a nested dictionary of your 10 favorite songs with 5 genres. Display all of the items of the nested dictionary\n",
        "\n",
        "- Each nested dictionary's key should be the genre of the song\n",
        "- Put each song in their respective genre"
      ]
    },
    {
      "cell_type": "markdown",
      "metadata": {
        "id": "MEceC6pWXLL8"
      },
      "source": [
        "Example:\n",
        "\n",
        "\n",
        "|KEY|VALUE|\n",
        "|---|---|\n",
        "|Pop|{001, Baby}|\n",
        "|Rock|{001, Enter Sandman}|"
      ]
    },
    {
      "cell_type": "code",
      "execution_count": 49,
      "metadata": {
        "id": "FznWolq-XLL8",
        "colab": {
          "base_uri": "https://localhost:8080/"
        },
        "outputId": "49c22374-265e-44ec-9705-7beb6a77b1b7"
      },
      "outputs": [
        {
          "output_type": "execute_result",
          "data": {
            "text/plain": [
              "{'OPM': {'001': 'Ako Na Lang', '002': 'When I Met You'},\n",
              " 'EDM': {'001': 'A Sky Full of Stars', '002': 'Stay'},\n",
              " 'Hip-hop': {'001': 'We Are Bulletproof Pt.2', '002': 'Dilemma'},\n",
              " 'Disco': {'001': 'Dancing Queen', '002': 'September'},\n",
              " 'K-pop': {'001': 'Outro: Luv in Skool', '002': 'Queen of Hearts'}}"
            ]
          },
          "metadata": {},
          "execution_count": 49
        }
      ],
      "source": [
        "mydictionary = {\n",
        "    \"OPM\" : {\n",
        "        \"001\": \"Ako Na Lang\",\n",
        "        \"002\": \"When I Met You\"\n",
        "    },\n",
        "    \"EDM\" : {\n",
        "        \"001\": \"A Sky Full of Stars\",\n",
        "        \"002\": \"Stay\"\n",
        "    },\n",
        "    \"Hip-hop\" : {\n",
        "        \"001\": \"We Are Bulletproof Pt.2\",\n",
        "        \"002\": \"Dilemma\"\n",
        "    },\n",
        "    \"Disco\" : {\n",
        "        \"001\": \"Dancing Queen\",\n",
        "        \"002\": \"September\"\n",
        "    },\n",
        "    \"K-pop\": {\n",
        "        \"001\": \"Outro: Luv in Skool\",\n",
        "        \"002\": \"Queen of Hearts\"\n",
        "    }\n",
        "}\n",
        "mydictionary"
      ]
    },
    {
      "cell_type": "markdown",
      "metadata": {
        "id": "gAmrC0mkXLL9"
      },
      "source": [
        "#### 6. Print the first song of the first genre"
      ]
    },
    {
      "cell_type": "code",
      "execution_count": 50,
      "metadata": {
        "id": "7zI3H7sLXLL9",
        "colab": {
          "base_uri": "https://localhost:8080/"
        },
        "outputId": "2fe7f03c-9197-49ff-85c5-614d2b83b1e7"
      },
      "outputs": [
        {
          "output_type": "stream",
          "name": "stdout",
          "text": [
            "Ako Na Lang\n"
          ]
        }
      ],
      "source": [
        "print(mydictionary[\"OPM\"][\"001\"])"
      ]
    },
    {
      "cell_type": "markdown",
      "metadata": {
        "id": "PQ4qWcCNXLL-"
      },
      "source": [
        "#### 7. Print the first song of the last genre"
      ]
    },
    {
      "cell_type": "code",
      "execution_count": 51,
      "metadata": {
        "id": "zRVGZJ5dXLL_",
        "colab": {
          "base_uri": "https://localhost:8080/"
        },
        "outputId": "3a4443a5-c1a3-4eac-97c8-117aae736100"
      },
      "outputs": [
        {
          "output_type": "stream",
          "name": "stdout",
          "text": [
            "Outro: Luv in Skool\n"
          ]
        }
      ],
      "source": [
        "print(mydictionary[\"K-pop\"][\"001\"])"
      ]
    }
  ],
  "metadata": {
    "kernelspec": {
      "display_name": "Python 3",
      "language": "python",
      "name": "python3"
    },
    "language_info": {
      "codemirror_mode": {
        "name": "ipython",
        "version": 3
      },
      "file_extension": ".py",
      "mimetype": "text/x-python",
      "name": "python",
      "nbconvert_exporter": "python",
      "pygments_lexer": "ipython3",
      "version": "3.11.4"
    },
    "orig_nbformat": 4,
    "colab": {
      "provenance": [],
      "include_colab_link": true
    }
  },
  "nbformat": 4,
  "nbformat_minor": 0
}