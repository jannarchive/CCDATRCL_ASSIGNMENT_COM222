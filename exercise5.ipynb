{
  "cells": [
    {
      "cell_type": "markdown",
      "metadata": {
        "id": "view-in-github",
        "colab_type": "text"
      },
      "source": [
        "<a href=\"https://colab.research.google.com/github/jannarchive/CCDATRCL_ASSIGNMENT_COM222/blob/main/exercise5.ipynb\" target=\"_parent\"><img src=\"https://colab.research.google.com/assets/colab-badge.svg\" alt=\"Open In Colab\"/></a>"
      ]
    },
    {
      "cell_type": "markdown",
      "metadata": {
        "id": "LKW8ttnDXLLp"
      },
      "source": [
        "# Exercise 5"
      ]
    },
    {
      "cell_type": "markdown",
      "metadata": {
        "id": "PeWjuyG_XLLy"
      },
      "source": [
        "#### 1. Create a dictionary of your 10 favorite songs."
      ]
    },
    {
      "cell_type": "markdown",
      "metadata": {
        "id": "7MhRNwtIXLL0"
      },
      "source": [
        "Example:\n",
        "\n",
        "|KEY|VALUE|\n",
        "|---|---|\n",
        "|001|My Love|\n",
        "|002|Like a rose|"
      ]
    },
    {
      "cell_type": "code",
      "execution_count": 66,
      "metadata": {
        "id": "cjmRo_mOXLL0",
        "colab": {
          "base_uri": "https://localhost:8080/"
        },
        "outputId": "6e9196a5-2ec8-448d-bad8-ad2afe764905"
      },
      "outputs": [
        {
          "output_type": "stream",
          "name": "stdout",
          "text": [
            "{'001': \"Daydreamin'\", '002': 'HOME', '003': 'Darl+ing', '004': \"I'll be your star\", '005': 'My Universe', '006': 'Viva La Vida', '007': 'Honeymoon Avenue', '008': 'Cruel Summer', '009': 'Lemonade', '010': 'Crystal Snow'}\n"
          ]
        }
      ],
      "source": [
        "mydictionary = {\n",
        "    \"001\": \"Daydreamin'\",\n",
        "    \"002\": \"HOME\",\n",
        "    \"003\": \"Darl+ing\",\n",
        "    \"004\": \"I'll be your star\",\n",
        "    \"005\": \"My Universe\",\n",
        "    \"006\": \"Viva La Vida\",\n",
        "    \"007\": \"Honeymoon Avenue\",\n",
        "    \"008\": \"Cruel Summer\",\n",
        "    \"009\": \"Lemonade\",\n",
        "    \"010\": \"Crystal Snow\"\n",
        "}\n",
        "print(mydictionary)"
      ]
    },
    {
      "cell_type": "markdown",
      "metadata": {
        "id": "_WBtvaPFXLL3"
      },
      "source": [
        "#### 2. Loop through the dictionary by its **key** and **value**"
      ]
    },
    {
      "cell_type": "code",
      "execution_count": 67,
      "metadata": {
        "id": "BMOoJyl7XLL4",
        "colab": {
          "base_uri": "https://localhost:8080/"
        },
        "outputId": "65857cc1-79b3-4646-dbc8-11e9fc705ca9"
      },
      "outputs": [
        {
          "output_type": "stream",
          "name": "stdout",
          "text": [
            "001 Daydreamin'\n",
            "002 HOME\n",
            "003 Darl+ing\n",
            "004 I'll be your star\n",
            "005 My Universe\n",
            "006 Viva La Vida\n",
            "007 Honeymoon Avenue\n",
            "008 Cruel Summer\n",
            "009 Lemonade\n",
            "010 Crystal Snow\n"
          ]
        }
      ],
      "source": [
        "for a, b in mydictionary.items():\n",
        "  print(a, b)"
      ]
    },
    {
      "cell_type": "markdown",
      "metadata": {
        "id": "xrtgOn-4XLL5"
      },
      "source": [
        "#### 3. Add one additional song"
      ]
    },
    {
      "cell_type": "code",
      "execution_count": 68,
      "metadata": {
        "id": "nYITQJIIXLL5",
        "colab": {
          "base_uri": "https://localhost:8080/"
        },
        "outputId": "65f9a31d-d6fa-41ef-dd86-2ee050f96bbb"
      },
      "outputs": [
        {
          "output_type": "execute_result",
          "data": {
            "text/plain": [
              "{'001': \"Daydreamin'\",\n",
              " '002': 'HOME',\n",
              " '003': 'Darl+ing',\n",
              " '004': \"I'll be your star\",\n",
              " '005': 'My Universe',\n",
              " '006': 'Viva La Vida',\n",
              " '007': 'Honeymoon Avenue',\n",
              " '008': 'Cruel Summer',\n",
              " '009': 'Lemonade',\n",
              " '010': 'Crystal Snow',\n",
              " '011': 'Kidult'}"
            ]
          },
          "metadata": {},
          "execution_count": 68
        }
      ],
      "source": [
        "mydictionary[\"011\"] = \"Kidult\"\n",
        "mydictionary"
      ]
    },
    {
      "cell_type": "markdown",
      "metadata": {
        "id": "PI1ija7ZXLL6"
      },
      "source": [
        "#### 4. Remove one song"
      ]
    },
    {
      "cell_type": "code",
      "execution_count": 69,
      "metadata": {
        "id": "brY68_00XLL6",
        "colab": {
          "base_uri": "https://localhost:8080/"
        },
        "outputId": "a569d49c-6ce6-4f77-d582-9cc0fd1f21c4"
      },
      "outputs": [
        {
          "output_type": "execute_result",
          "data": {
            "text/plain": [
              "{'001': \"Daydreamin'\",\n",
              " '002': 'HOME',\n",
              " '003': 'Darl+ing',\n",
              " '004': \"I'll be your star\",\n",
              " '005': 'My Universe',\n",
              " '006': 'Viva La Vida',\n",
              " '007': 'Honeymoon Avenue',\n",
              " '009': 'Lemonade',\n",
              " '010': 'Crystal Snow',\n",
              " '011': 'Kidult'}"
            ]
          },
          "metadata": {},
          "execution_count": 69
        }
      ],
      "source": [
        "mydictionary.pop(\"008\")\n",
        "mydictionary"
      ]
    },
    {
      "cell_type": "markdown",
      "metadata": {
        "id": "j1Qg_HFYXLL7"
      },
      "source": [
        "#### 5. Create a nested dictionary of your 10 favorite songs with 5 genres. Display all of the items of the nested dictionary\n",
        "\n",
        "- Each nested dictionary's key should be the genre of the song\n",
        "- Put each song in their respective genre"
      ]
    },
    {
      "cell_type": "markdown",
      "metadata": {
        "id": "MEceC6pWXLL8"
      },
      "source": [
        "Example:\n",
        "\n",
        "\n",
        "|KEY|VALUE|\n",
        "|---|---|\n",
        "|Pop|{001, Baby}|\n",
        "|Rock|{001, Enter Sandman}|"
      ]
    },
    {
      "cell_type": "code",
      "execution_count": 70,
      "metadata": {
        "id": "FznWolq-XLL8",
        "colab": {
          "base_uri": "https://localhost:8080/"
        },
        "outputId": "ba9eab17-8ec7-4352-b5f4-cebb87339f55"
      },
      "outputs": [
        {
          "output_type": "execute_result",
          "data": {
            "text/plain": [
              "{'OPM': {'001': 'Ako Na Lang', '002': 'When I Met You'},\n",
              " 'EDM': {'001': 'A Sky Full of Stars', '002': 'Stay'},\n",
              " 'Hip-hop': {'001': 'We Are Bulletproof Pt.2', '002': 'Dilemma'},\n",
              " 'Disco': {'001': 'Dancing Queen', '002': 'September'},\n",
              " 'K-pop': {'001': 'Outro: Luv in Skool', '002': 'Queen of Hearts'}}"
            ]
          },
          "metadata": {},
          "execution_count": 70
        }
      ],
      "source": [
        "mydictionary = {\n",
        "    \"OPM\" : {\n",
        "        \"001\": \"Ako Na Lang\",\n",
        "        \"002\": \"When I Met You\"\n",
        "    },\n",
        "    \"EDM\" : {\n",
        "        \"001\": \"A Sky Full of Stars\",\n",
        "        \"002\": \"Stay\"\n",
        "    },\n",
        "    \"Hip-hop\" : {\n",
        "        \"001\": \"We Are Bulletproof Pt.2\",\n",
        "        \"002\": \"Dilemma\"\n",
        "    },\n",
        "    \"Disco\" : {\n",
        "        \"001\": \"Dancing Queen\",\n",
        "        \"002\": \"September\"\n",
        "    },\n",
        "    \"K-pop\": {\n",
        "        \"001\": \"Outro: Luv in Skool\",\n",
        "        \"002\": \"Queen of Hearts\"\n",
        "    }\n",
        "}\n",
        "mydictionary"
      ]
    },
    {
      "cell_type": "markdown",
      "metadata": {
        "id": "gAmrC0mkXLL9"
      },
      "source": [
        "#### 6. Print the first song of the first genre"
      ]
    },
    {
      "cell_type": "code",
      "execution_count": 71,
      "metadata": {
        "id": "7zI3H7sLXLL9",
        "colab": {
          "base_uri": "https://localhost:8080/"
        },
        "outputId": "c29dfc12-47a7-422a-81d0-a3896950b2b9"
      },
      "outputs": [
        {
          "output_type": "stream",
          "name": "stdout",
          "text": [
            "Ako Na Lang\n"
          ]
        }
      ],
      "source": [
        "print(mydictionary[\"OPM\"][\"001\"])"
      ]
    },
    {
      "cell_type": "markdown",
      "metadata": {
        "id": "PQ4qWcCNXLL-"
      },
      "source": [
        "#### 7. Print the first song of the last genre"
      ]
    },
    {
      "cell_type": "code",
      "execution_count": 72,
      "metadata": {
        "id": "zRVGZJ5dXLL_",
        "colab": {
          "base_uri": "https://localhost:8080/"
        },
        "outputId": "1e2b4990-4a4f-497f-b93c-bcebec8778dd"
      },
      "outputs": [
        {
          "output_type": "stream",
          "name": "stdout",
          "text": [
            "Outro: Luv in Skool\n"
          ]
        }
      ],
      "source": [
        "print(mydictionary[\"K-pop\"][\"001\"])"
      ]
    }
  ],
  "metadata": {
    "kernelspec": {
      "display_name": "Python 3",
      "language": "python",
      "name": "python3"
    },
    "language_info": {
      "codemirror_mode": {
        "name": "ipython",
        "version": 3
      },
      "file_extension": ".py",
      "mimetype": "text/x-python",
      "name": "python",
      "nbconvert_exporter": "python",
      "pygments_lexer": "ipython3",
      "version": "3.11.4"
    },
    "orig_nbformat": 4,
    "colab": {
      "provenance": [],
      "include_colab_link": true
    }
  },
  "nbformat": 4,
  "nbformat_minor": 0
}