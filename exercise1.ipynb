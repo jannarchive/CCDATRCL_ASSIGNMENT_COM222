{
  "cells": [
    {
      "cell_type": "markdown",
      "metadata": {
        "id": "view-in-github",
        "colab_type": "text"
      },
      "source": [
        "<a href=\"https://colab.research.google.com/github/jannarchive/CCDATRCL_ASSIGNMENT_COM222/blob/main/exercise1.ipynb\" target=\"_parent\"><img src=\"https://colab.research.google.com/assets/colab-badge.svg\" alt=\"Open In Colab\"/></a>"
      ]
    },
    {
      "cell_type": "markdown",
      "metadata": {
        "id": "h2vFiYhGzZOg"
      },
      "source": [
        "# Exercise 1"
      ]
    },
    {
      "cell_type": "markdown",
      "source": [
        "## Class Initialization"
      ],
      "metadata": {
        "id": "sRm6kPQozcaU"
      }
    },
    {
      "cell_type": "code",
      "execution_count": 8,
      "metadata": {
        "id": "b1u4Dt9mzZOi"
      },
      "outputs": [],
      "source": [
        "class Node:\n",
        "    def __init__(self, data):\n",
        "        self.data = data\n",
        "        self.next = None\n",
        "        self.prev = None"
      ]
    },
    {
      "cell_type": "code",
      "execution_count": 9,
      "metadata": {
        "id": "tigvHSaHzZOj"
      },
      "outputs": [],
      "source": [
        "class LinkedList:\n",
        "\n",
        "    def __init__(self):\n",
        "        self.head = None\n",
        "\n",
        "    def traverse(self, node):\n",
        "        while node:\n",
        "            print(node.data, end=\" -> \")\n",
        "            node = node.next"
      ]
    },
    {
      "cell_type": "code",
      "execution_count": 10,
      "metadata": {
        "id": "LIkQBioVzZOk"
      },
      "outputs": [],
      "source": [
        "class DoublyLinkedList:\n",
        "\n",
        "    def __init__(self):\n",
        "        self.head = None\n",
        "\n",
        "    def traverse(self, node):\n",
        "        while node:\n",
        "            print(node.data, end=\" -> \")\n",
        "            node = node.next"
      ]
    },
    {
      "cell_type": "code",
      "execution_count": 11,
      "metadata": {
        "id": "zlxNT5EozZOl"
      },
      "outputs": [],
      "source": [
        "class CircularLinkedList:\n",
        "\n",
        "    def __init__(self):\n",
        "        self.head = None\n",
        "\n",
        "    def traverse(self, node):\n",
        "\n",
        "        head = node\n",
        "\n",
        "        while node:\n",
        "            print(node.data, end=\" -> \")\n",
        "            node = node.next\n",
        "\n",
        "            # Break to prevent infinite loop\n",
        "            if node == head:\n",
        "                break"
      ]
    },
    {
      "cell_type": "markdown",
      "metadata": {
        "id": "O68-Q1-bzZOl"
      },
      "source": [
        "#### 1. Create a Singly Linked list\n",
        "\n",
        "- Each node should contain your name and your seatmates in your row\n",
        "- Create at least 5 nodes\n",
        "- Traverse all nodes"
      ]
    },
    {
      "cell_type": "code",
      "execution_count": 12,
      "metadata": {
        "id": "pTcx_OuPzZOl",
        "colab": {
          "base_uri": "https://localhost:8080/"
        },
        "outputId": "9dfeba1d-c123-4002-e63f-fc78345316c1"
      },
      "outputs": [
        {
          "output_type": "stream",
          "name": "stdout",
          "text": [
            "All elements in Singly Linked list\n",
            "\n",
            "Janna -> Soni -> Red -> Rov -> Jannah -> Francis -> Rhenier -> Christian -> "
          ]
        }
      ],
      "source": [
        "# New instance of LinkedList class\n",
        "singly_linked_list = LinkedList()\n",
        "\n",
        "# Give each node a data it will hold\n",
        "singly_linked_list.head = Node(\"Janna\")\n",
        "node_two = Node(\"Soni\")\n",
        "node_three = Node(\"Red\")\n",
        "node_four = Node(\"Rov\")\n",
        "node_five = Node(\"Jannah\")\n",
        "node_six = Node(\"Francis\")\n",
        "node_seven = Node(\"Rhenier\")\n",
        "node_eight = Node(\"Christian\")\n",
        "\n",
        "# Connect each node\n",
        "singly_linked_list.head.next = node_two\n",
        "node_two.next = node_three\n",
        "node_three.next = node_four\n",
        "node_four.next = node_five\n",
        "node_five.next = node_six\n",
        "node_six.next = node_seven\n",
        "node_seven.next = node_eight\n",
        "\n",
        "# Display all elements in Doubly Linked list\n",
        "print(\"All elements in Singly Linked list\\n\")\n",
        "\n",
        "singly_linked_list.traverse(singly_linked_list.head)"
      ]
    },
    {
      "cell_type": "markdown",
      "metadata": {
        "id": "IFgwbdw_zZOm"
      },
      "source": [
        "#### 2. Create a Doubly Linked list\n",
        "\n",
        "- Each node should contain your name and your seatmates in your row\n",
        "- Create at least 5 nodes\n",
        "- Traverse all nodes"
      ]
    },
    {
      "cell_type": "code",
      "execution_count": 13,
      "metadata": {
        "id": "8kQD2A_QzZOm",
        "colab": {
          "base_uri": "https://localhost:8080/"
        },
        "outputId": "955e99f7-6e45-44aa-cce5-b14e7de4d968"
      },
      "outputs": [
        {
          "output_type": "stream",
          "name": "stdout",
          "text": [
            "The value of head is:  Janna\n",
            "The value next to head is:  Soni\n",
            "-----------------------------------------------\n",
            "The value of node_two is:  Soni\n",
            "The value previous to node_two is:  Janna\n",
            "The value next to node_two is:  Red\n",
            "-----------------------------------------------\n",
            "The value of node_three is:  Red\n",
            "The value previous to node_three is:  Soni\n",
            "The value next to node_three is:  Rov\n",
            "-----------------------------------------------\n",
            "The value of node_four is:  Rov\n",
            "The value previous to node_four is:  Red\n",
            "The value next to node_four is:  Jannah\n",
            "-----------------------------------------------\n",
            "The value of node_five is:  Jannah\n",
            "The value previous to node_five is:  Rov\n",
            "The value next to node_five is:  Francis\n",
            "-----------------------------------------------\n",
            "The value of node_six is:  Francis\n",
            "The value previous to node_six is:  Jannah\n",
            "The value next to node_six is:  Rhenier\n",
            "-----------------------------------------------\n",
            "The value of node_seven is:  Rhenier\n",
            "The value previous to node_seven is:  Francis\n",
            "The value next to node_seven is:  Christian\n",
            "-----------------------------------------------\n",
            "The value of node_eight is:  Christian\n",
            "The value previous to node_eight is:  Rhenier\n",
            "-----------------------------------------------\n",
            "\n",
            "\n",
            "All elements in Doubly Linked list\n",
            "\n",
            "Janna -> Soni -> Red -> Rov -> Jannah -> Francis -> Rhenier -> Christian -> "
          ]
        }
      ],
      "source": [
        "# New instance of DoublyLinkedList class\n",
        "doubly_linked_list = DoublyLinkedList()\n",
        "\n",
        "# Give each node a data it will hold\n",
        "doubly_linked_list.head = Node(\"Janna\")\n",
        "node_two = Node(\"Soni\")\n",
        "node_three = Node(\"Red\")\n",
        "node_four = Node(\"Rov\")\n",
        "node_five = Node(\"Jannah\")\n",
        "node_six = Node(\"Francis\")\n",
        "node_seven = Node(\"Rhenier\")\n",
        "node_eight = Node(\"Christian\")\n",
        "\n",
        "# Connect each node\n",
        "doubly_linked_list.head.prev = None\n",
        "doubly_linked_list.head.next = node_two\n",
        "\n",
        "node_two.prev = doubly_linked_list.head\n",
        "node_two.next = node_three\n",
        "\n",
        "node_three.prev = node_two\n",
        "node_three.next = node_four\n",
        "\n",
        "node_four.prev = node_three\n",
        "node_four.next = node_five\n",
        "\n",
        "node_five.prev = node_four\n",
        "node_five.next = node_six\n",
        "\n",
        "node_six.prev = node_five\n",
        "node_six.next = node_seven\n",
        "\n",
        "node_seven.prev = node_six\n",
        "node_seven.next = node_eight\n",
        "\n",
        "node_eight.prev = node_seven\n",
        "node_eight.next = None\n",
        "\n",
        "# Print value of each node\n",
        "print(\"The value of head is: \", doubly_linked_list.head.data)\n",
        "print(\"The value next to head is: \", doubly_linked_list.head.next.data)\n",
        "\n",
        "print(\"-----------------------------------------------\")\n",
        "\n",
        "print(\"The value of node_two is: \", node_two.data)\n",
        "print(\"The value previous to node_two is: \", node_two.prev.data)\n",
        "print(\"The value next to node_two is: \", node_two.next.data)\n",
        "\n",
        "print(\"-----------------------------------------------\")\n",
        "\n",
        "print(\"The value of node_three is: \", node_three.data)\n",
        "print(\"The value previous to node_three is: \", node_three.prev.data)\n",
        "print(\"The value next to node_three is: \", node_three.next.data)\n",
        "\n",
        "print(\"-----------------------------------------------\")\n",
        "\n",
        "print(\"The value of node_four is: \", node_four.data)\n",
        "print(\"The value previous to node_four is: \", node_four.prev.data)\n",
        "print(\"The value next to node_four is: \", node_four.next.data)\n",
        "\n",
        "print(\"-----------------------------------------------\")\n",
        "\n",
        "print(\"The value of node_five is: \", node_five.data)\n",
        "print(\"The value previous to node_five is: \", node_five.prev.data)\n",
        "print(\"The value next to node_five is: \", node_five.next.data)\n",
        "\n",
        "print(\"-----------------------------------------------\")\n",
        "\n",
        "print(\"The value of node_six is: \", node_six.data)\n",
        "print(\"The value previous to node_six is: \", node_six.prev.data)\n",
        "print(\"The value next to node_six is: \", node_six.next.data)\n",
        "\n",
        "print(\"-----------------------------------------------\")\n",
        "\n",
        "print(\"The value of node_seven is: \", node_seven.data)\n",
        "print(\"The value previous to node_seven is: \", node_seven.prev.data)\n",
        "print(\"The value next to node_seven is: \", node_seven.next.data)\n",
        "\n",
        "print(\"-----------------------------------------------\")\n",
        "\n",
        "print(\"The value of node_eight is: \", node_eight.data)\n",
        "print(\"The value previous to node_eight is: \", node_eight.prev.data)\n",
        "\n",
        "# Display all elements in Doubly Linked list\n",
        "print(\"-----------------------------------------------\")\n",
        "print(\"\\n\\nAll elements in Doubly Linked list\\n\")\n",
        "\n",
        "doubly_linked_list.traverse(doubly_linked_list.head)"
      ]
    },
    {
      "cell_type": "markdown",
      "metadata": {
        "id": "rtApbsCjzZOm"
      },
      "source": [
        "#### 3. Create a Circular Linked list\n",
        "\n",
        "- Each node should contain your name and your seatmates in your row\n",
        "- Create at least 5 nodes\n",
        "- Traverse all nodes"
      ]
    },
    {
      "cell_type": "code",
      "execution_count": 14,
      "metadata": {
        "id": "Gp1Oiq0jzZOn",
        "colab": {
          "base_uri": "https://localhost:8080/"
        },
        "outputId": "e3e04833-65e7-4669-d2a2-dfb4a047b910"
      },
      "outputs": [
        {
          "output_type": "stream",
          "name": "stdout",
          "text": [
            "The value of head is:  Janna\n",
            "The value next to head is:  Soni\n",
            "-----------------------------------------------\n",
            "The value of node_two is:  Soni\n",
            "The value next to node_two is:  Red\n",
            "-----------------------------------------------\n",
            "The value of node_three is:  Red\n",
            "The value next to node_three is:  Rov\n",
            "-----------------------------------------------\n",
            "The value of node_four is:  Rov\n",
            "The value next to node_four is:  Jannah\n",
            "-----------------------------------------------\n",
            "The value of node_five is:  Jannah\n",
            "The value next to node_five is:  Francis\n",
            "-----------------------------------------------\n",
            "The value of node_six is:  Francis\n",
            "The value next to node_six is:  Rhenier\n",
            "-----------------------------------------------\n",
            "The value of node_seven is:  Rhenier\n",
            "The value next to node_seven is:  Christian\n",
            "-----------------------------------------------\n",
            "The value of node_eight is:  Christian\n",
            "The value next to node_eight is:  Janna\n",
            "-----------------------------------------------\n",
            "\n",
            "\n",
            "All elements in Circular Linked list\n",
            "\n",
            "Janna -> Soni -> Red -> Rov -> Jannah -> Francis -> Rhenier -> Christian -> "
          ]
        }
      ],
      "source": [
        "# New instance of CircularLinkedList class\n",
        "circular_linked_list = CircularLinkedList()\n",
        "\n",
        "# Give each node a data it will hold\n",
        "circular_linked_list.head = Node(\"Janna\")\n",
        "node_two = Node(\"Soni\")\n",
        "node_three = Node(\"Red\")\n",
        "node_four = Node(\"Rov\")\n",
        "node_five = Node(\"Jannah\")\n",
        "node_six = Node(\"Francis\")\n",
        "node_seven = Node(\"Rhenier\")\n",
        "node_eight = Node(\"Christian\")\n",
        "\n",
        "# Connect each node\n",
        "circular_linked_list.head.next = node_two\n",
        "node_two.next = node_three\n",
        "node_three.next = node_four\n",
        "node_four.next = node_five\n",
        "node_five.next = node_six\n",
        "node_six.next = node_seven\n",
        "node_seven.next = node_eight\n",
        "node_eight.next = circular_linked_list.head\n",
        "\n",
        "# Print value of each node\n",
        "print(\"The value of head is: \", circular_linked_list.head.data)\n",
        "print(\"The value next to head is: \", circular_linked_list.head.next.data)\n",
        "\n",
        "print(\"-----------------------------------------------\")\n",
        "\n",
        "print(\"The value of node_two is: \", node_two.data)\n",
        "print(\"The value next to node_two is: \", node_two.next.data)\n",
        "\n",
        "print(\"-----------------------------------------------\")\n",
        "\n",
        "print(\"The value of node_three is: \", node_three.data)\n",
        "print(\"The value next to node_three is: \", node_three.next.data)\n",
        "\n",
        "print(\"-----------------------------------------------\")\n",
        "\n",
        "print(\"The value of node_four is: \", node_four.data)\n",
        "print(\"The value next to node_four is: \", node_four.next.data)\n",
        "\n",
        "print(\"-----------------------------------------------\")\n",
        "\n",
        "print(\"The value of node_five is: \", node_five.data)\n",
        "print(\"The value next to node_five is: \", node_five.next.data)\n",
        "\n",
        "print(\"-----------------------------------------------\")\n",
        "\n",
        "print(\"The value of node_six is: \", node_six.data)\n",
        "print(\"The value next to node_six is: \", node_six.next.data)\n",
        "\n",
        "print(\"-----------------------------------------------\")\n",
        "\n",
        "print(\"The value of node_seven is: \", node_seven.data)\n",
        "print(\"The value next to node_seven is: \", node_seven.next.data)\n",
        "\n",
        "print(\"-----------------------------------------------\")\n",
        "\n",
        "print(\"The value of node_eight is: \", node_eight.data)\n",
        "print(\"The value next to node_eight is: \", node_eight.next.data)\n",
        "\n",
        "# Display all elements in Circular Linked list\n",
        "print(\"-----------------------------------------------\")\n",
        "print(\"\\n\\nAll elements in Circular Linked list\\n\")\n",
        "\n",
        "circular_linked_list.traverse(circular_linked_list.head)"
      ]
    }
  ],
  "metadata": {
    "kernelspec": {
      "display_name": "Python 3",
      "language": "python",
      "name": "python3"
    },
    "language_info": {
      "name": "python",
      "version": "3.11.4"
    },
    "orig_nbformat": 4,
    "colab": {
      "provenance": [],
      "include_colab_link": true
    }
  },
  "nbformat": 4,
  "nbformat_minor": 0
}